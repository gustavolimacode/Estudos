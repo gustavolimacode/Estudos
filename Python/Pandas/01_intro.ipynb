{
 "cells": [
  {
   "cell_type": "markdown",
   "id": "b2921ef3",
   "metadata": {},
   "source": [
    "# 🐼 Pandas - Lesson 01: Introduction\n",
    "📅 Date: October 13, 2025\n",
    "\n",
    "---\n",
    "\n",
    "### 💡 What I learned today\n",
    "- What is Pandas and why it’s used\n",
    "- How to create a simple DataFrame\n",
    "- How to save in an Excel file\n",
    "- How to use `.head()` to preview data\n"
   ]
  },
  {
   "cell_type": "code",
   "execution_count": 3,
   "id": "3e3082b0",
   "metadata": {},
   "outputs": [
    {
     "data": {
      "text/html": [
       "<div>\n",
       "<style scoped>\n",
       "    .dataframe tbody tr th:only-of-type {\n",
       "        vertical-align: middle;\n",
       "    }\n",
       "\n",
       "    .dataframe tbody tr th {\n",
       "        vertical-align: top;\n",
       "    }\n",
       "\n",
       "    .dataframe thead th {\n",
       "        text-align: right;\n",
       "    }\n",
       "</style>\n",
       "<table border=\"1\" class=\"dataframe\">\n",
       "  <thead>\n",
       "    <tr style=\"text-align: right;\">\n",
       "      <th></th>\n",
       "      <th>product_name</th>\n",
       "      <th>price</th>\n",
       "      <th>sales</th>\n",
       "    </tr>\n",
       "  </thead>\n",
       "  <tbody>\n",
       "    <tr>\n",
       "      <th>0</th>\n",
       "      <td>Chocolate</td>\n",
       "      <td>10</td>\n",
       "      <td>200</td>\n",
       "    </tr>\n",
       "    <tr>\n",
       "      <th>1</th>\n",
       "      <td>Body cream</td>\n",
       "      <td>40</td>\n",
       "      <td>150</td>\n",
       "    </tr>\n",
       "    <tr>\n",
       "      <th>2</th>\n",
       "      <td>Car</td>\n",
       "      <td>80000</td>\n",
       "      <td>40</td>\n",
       "    </tr>\n",
       "  </tbody>\n",
       "</table>\n",
       "</div>"
      ],
      "text/plain": [
       "  product_name  price  sales\n",
       "0    Chocolate     10    200\n",
       "1   Body cream     40    150\n",
       "2          Car  80000     40"
      ]
     },
     "execution_count": 3,
     "metadata": {},
     "output_type": "execute_result"
    }
   ],
   "source": [
    "import pandas as pd\n",
    "\n",
    "data = [\n",
    "    {'product_name': 'Chocolate', 'price': 10, 'sales': 200},\n",
    "    {'product_name': 'Body cream', 'price': 40, 'sales': 150},\n",
    "    {'product_name': 'Car', 'price': 80000, 'sales': 40}\n",
    "]\n",
    "\n",
    "sales_df = pd.DataFrame(data)\n",
    "\n",
    "sales_df.to_excel(\"01_introduction.xlsx\", index=False)\n",
    "\n",
    "sales_df.head()"
   ]
  }
 ],
 "metadata": {
  "kernelspec": {
   "display_name": "Python 3",
   "language": "python",
   "name": "python3"
  },
  "language_info": {
   "codemirror_mode": {
    "name": "ipython",
    "version": 3
   },
   "file_extension": ".py",
   "mimetype": "text/x-python",
   "name": "python",
   "nbconvert_exporter": "python",
   "pygments_lexer": "ipython3",
   "version": "3.13.7"
  }
 },
 "nbformat": 4,
 "nbformat_minor": 5
}
