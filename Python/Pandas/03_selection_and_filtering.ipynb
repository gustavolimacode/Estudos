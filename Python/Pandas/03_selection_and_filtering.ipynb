{
 "cells": [
  {
   "cell_type": "markdown",
   "id": "88ee9274",
   "metadata": {},
   "source": [
    "# 🐼 Pandas - Lesson 03: Selection and Filtering \n",
    "📅 Date: October 22, 2025\n",
    "\n",
    "---\n",
    "\n",
    "### 💡 What I learned today\n",
    "- How to select columns and rows\n",
    "- How to access specific values and slices\n"
   ]
  },
  {
   "cell_type": "code",
   "execution_count": 3,
   "id": "21188a3e",
   "metadata": {},
   "outputs": [],
   "source": [
    "import pandas as pd\n",
    "\n",
    "bmw_df = pd.read_csv('Arquivos/BMW sales data (2010-2024).csv')"
   ]
  },
  {
   "cell_type": "markdown",
   "id": "2f596d44",
   "metadata": {},
   "source": [
    "## 1. Selecting columns\n",
    "\n",
    "\n",
    "In this section, I learned to access specific columns in a DataFrame."
   ]
  },
  {
   "cell_type": "code",
   "execution_count": null,
   "id": "b8c78268",
   "metadata": {},
   "outputs": [],
   "source": [
    "# Select a single column\n",
    "display(bmw_df['Model']) \n",
    "\n",
    "# Select a multiple columns\n",
    "display(bmw_df[['Region', 'Color']]) \n",
    "\n",
    "# Select columns in a different order\n",
    "display(bmw_df[['Price_USD', 'Sales_Volume']]) \n",
    "\n",
    "# View list of columns available in list\n",
    "display(bmw_df.columns.tolist()) "
   ]
  },
  {
   "cell_type": "markdown",
   "id": "14f07234",
   "metadata": {},
   "source": [
    "## 2. Selecting rows\n",
    "\n",
    "In this section, I learned how to access specific rows, slices, and values using `.loc` and conditional filtering."
   ]
  },
  {
   "cell_type": "code",
   "execution_count": null,
   "id": "8300d82f",
   "metadata": {},
   "outputs": [],
   "source": [
    "# Select a single line or multiple lines\n",
    "display(bmw_df.loc[0:4])\n",
    "\n",
    "# Get rows that match a condition\n",
    "display(bmw_df.loc[bmw_df['Region'] == 'Africa'])\n",
    "\n",
    "# Get multiple rows and columns using `.loc[rows, columns]`\n",
    "display(bmw_df.loc[bmw_df['Region'] == 'Africa', ['Region', 'Model', 'Year', 'Sales_Volume']])\n",
    "\n",
    "# Get a specific value\n",
    "display(bmw_df.loc[8, 'Model'])"
   ]
  }
 ],
 "metadata": {
  "kernelspec": {
   "display_name": "Python 3",
   "language": "python",
   "name": "python3"
  },
  "language_info": {
   "codemirror_mode": {
    "name": "ipython",
    "version": 3
   },
   "file_extension": ".py",
   "mimetype": "text/x-python",
   "name": "python",
   "nbconvert_exporter": "python",
   "pygments_lexer": "ipython3",
   "version": "3.13.7"
  }
 },
 "nbformat": 4,
 "nbformat_minor": 5
}
